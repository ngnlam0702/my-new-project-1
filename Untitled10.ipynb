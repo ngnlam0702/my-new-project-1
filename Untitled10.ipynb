{
 "cells": [
  {
   "cell_type": "code",
   "execution_count": 5,
   "id": "aba4a33d",
   "metadata": {
    "scrolled": true
   },
   "outputs": [
    {
     "ename": "Terminator",
     "evalue": "",
     "output_type": "error",
     "traceback": [
      "\u001b[1;31m---------------------------------------------------------------------------\u001b[0m",
      "\u001b[1;31mTerminator\u001b[0m                                Traceback (most recent call last)",
      "\u001b[1;32m~\\AppData\\Local\\Temp/ipykernel_5464/3843749881.py\u001b[0m in \u001b[0;36m<module>\u001b[1;34m\u001b[0m\n\u001b[0;32m      3\u001b[0m \u001b[0mt\u001b[0m\u001b[1;33m.\u001b[0m\u001b[0mScreen\u001b[0m\u001b[1;33m(\u001b[0m\u001b[1;33m)\u001b[0m\u001b[1;33m\u001b[0m\u001b[1;33m\u001b[0m\u001b[0m\n\u001b[0;32m      4\u001b[0m \u001b[0mt\u001b[0m\u001b[1;33m.\u001b[0m\u001b[0mbgcolor\u001b[0m\u001b[1;33m(\u001b[0m\u001b[1;34m\"gray\"\u001b[0m\u001b[1;33m)\u001b[0m\u001b[1;33m\u001b[0m\u001b[1;33m\u001b[0m\u001b[0m\n\u001b[1;32m----> 5\u001b[1;33m \u001b[0mt\u001b[0m\u001b[1;33m.\u001b[0m\u001b[0mpensize\u001b[0m\u001b[1;33m(\u001b[0m\u001b[1;36m2\u001b[0m\u001b[1;33m)\u001b[0m\u001b[1;33m\u001b[0m\u001b[1;33m\u001b[0m\u001b[0m\n\u001b[0m\u001b[0;32m      6\u001b[0m \u001b[0mt\u001b[0m\u001b[1;33m.\u001b[0m\u001b[0mpenup\u001b[0m\u001b[1;33m(\u001b[0m\u001b[1;33m)\u001b[0m\u001b[1;33m\u001b[0m\u001b[1;33m\u001b[0m\u001b[0m\n",
      "\u001b[1;32m~\\AppData\\Local\\Programs\\Python\\Python39\\lib\\turtle.py\u001b[0m in \u001b[0;36mpensize\u001b[1;34m(width)\u001b[0m\n",
      "\u001b[1;31mTerminator\u001b[0m: "
     ]
    }
   ],
   "source": [
    "import turtle as t\n",
    "\n",
    "t.Screen()\n",
    "t.bgcolor(\"gray\")\n",
    "t.pensize(2)\n",
    "t.penup()"
   ]
  },
  {
   "cell_type": "code",
   "execution_count": 6,
   "id": "a920e5c9",
   "metadata": {},
   "outputs": [],
   "source": [
    "# vẽ mặt trời\n",
    "t.goto(170,280)\n",
    "t.pendown()\n",
    "t.forward(100)\n",
    "t.backward(200)\n",
    "t.goto(170,280)\n",
    "t.left(90)\n",
    "t.forward(100)\n",
    "t.backward(200)\n",
    "t.goto(170,280)\n",
    "t.left(45)\n",
    "t.forward(75)\n",
    "t.backward(150)\n",
    "t.goto(170,280)\n",
    "t.right(90)\n",
    "t.forward(75)\n",
    "t.backward(150)\n",
    "t.penup()\n",
    "t.goto(205,245)\n",
    "t.pendown()\n",
    "t.fillcolor(\"yellow\")\n",
    "t.begin_fill()\n",
    "t.circle(50)\n",
    "t.end_fill()\n",
    "t.penup()\n",
    "t.goto(280,340)\n",
    "t.write(\"Sun\",font=(\"Arial\",\"20\"))"
   ]
  },
  {
   "cell_type": "code",
   "execution_count": 7,
   "id": "574a1ec6",
   "metadata": {},
   "outputs": [],
   "source": [
    "# vẽ cây\n",
    "t.goto(250,20)\n",
    "t.pendown()\n",
    "t.fillcolor(\"green\")\n",
    "t.begin_fill()\n",
    "t.circle(100, steps=3)\n",
    "t.end_fill()\n",
    "t.penup()\n",
    "t.goto(250,-50)\n",
    "t.pendown()\n",
    "t.begin_fill()\n",
    "t.circle(100, steps=3)\n",
    "t.end_fill()\n",
    "t.penup()\n",
    "t.goto(250,-50)\n",
    "t.penup()\n",
    "t.goto(250,-120)\n",
    "t.pendown()\n",
    "t.begin_fill()\n",
    "t.circle(100, steps=3)\n",
    "t.end_fill()\n",
    "t.penup()\n",
    "t.goto(265,-190)\n",
    "t.fillcolor(\"brown\")\n",
    "t.begin_fill()\n",
    "t.pendown()\n",
    "t.right(135)\n",
    "t.forward(70)\n",
    "t.right(90)\n",
    "t.forward(30)\n",
    "t.right(90)\n",
    "t.forward(69)\n",
    "t.right(90)\n",
    "t.forward(30)\n",
    "t.end_fill()\n",
    "t.penup()\n",
    "t.goto(300,-250)\n",
    "t.write(\"Tree\",font=(\"Arial\",\"20\"))"
   ]
  },
  {
   "cell_type": "code",
   "execution_count": null,
   "id": "98766653",
   "metadata": {},
   "outputs": [],
   "source": [
    "t.done()"
   ]
  },
  {
   "cell_type": "code",
   "execution_count": null,
   "id": "ce0a677c",
   "metadata": {},
   "outputs": [],
   "source": []
  },
  {
   "cell_type": "code",
   "execution_count": null,
   "id": "db101ab0",
   "metadata": {},
   "outputs": [],
   "source": []
  },
  {
   "cell_type": "code",
   "execution_count": null,
   "id": "5b350183",
   "metadata": {},
   "outputs": [],
   "source": []
  },
  {
   "cell_type": "code",
   "execution_count": null,
   "id": "aec119e7",
   "metadata": {},
   "outputs": [],
   "source": []
  }
 ],
 "metadata": {
  "kernelspec": {
   "display_name": "Python 3 (ipykernel)",
   "language": "python",
   "name": "python3"
  },
  "language_info": {
   "codemirror_mode": {
    "name": "ipython",
    "version": 3
   },
   "file_extension": ".py",
   "mimetype": "text/x-python",
   "name": "python",
   "nbconvert_exporter": "python",
   "pygments_lexer": "ipython3",
   "version": "3.9.7"
  }
 },
 "nbformat": 4,
 "nbformat_minor": 5
}
