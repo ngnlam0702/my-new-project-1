{
 "cells": [
  {
   "cell_type": "code",
   "execution_count": 1,
   "id": "97f57e79",
   "metadata": {},
   "outputs": [],
   "source": [
    "import turtle\n",
    "import math"
   ]
  },
  {
   "cell_type": "code",
   "execution_count": null,
   "id": "c497ae94",
   "metadata": {},
   "outputs": [],
   "source": [
    "r = float(input(\"Enter the radious \"))"
   ]
  },
  {
   "cell_type": "code",
   "execution_count": null,
   "id": "d87cfde3",
   "metadata": {},
   "outputs": [],
   "source": [
    "pen = turtle.Turtle()\n",
    "pen.pensize(5)\n",
    "pen.fillcolor(\"red\")\n",
    "pen.begin_fill()\n",
    "pen.circle(r)\n",
    "pen.end_fill()\n",
    "turtle.done()"
   ]
  },
  {
   "cell_type": "code",
   "execution_count": null,
   "id": "7be84f72",
   "metadata": {},
   "outputs": [],
   "source": [
    "c = 2 * math.pi * r\n",
    "s = math.pi * r * r"
   ]
  },
  {
   "cell_type": "code",
   "execution_count": null,
   "id": "97ca0fc9",
   "metadata": {},
   "outputs": [],
   "source": []
  },
  {
   "cell_type": "code",
   "execution_count": null,
   "id": "ac0e1ec6",
   "metadata": {},
   "outputs": [],
   "source": []
  },
  {
   "cell_type": "code",
   "execution_count": null,
   "id": "a8c21314",
   "metadata": {},
   "outputs": [],
   "source": []
  },
  {
   "cell_type": "code",
   "execution_count": null,
   "id": "2416fea4",
   "metadata": {},
   "outputs": [],
   "source": []
  }
 ],
 "metadata": {
  "kernelspec": {
   "display_name": "Python 3 (ipykernel)",
   "language": "python",
   "name": "python3"
  },
  "language_info": {
   "codemirror_mode": {
    "name": "ipython",
    "version": 3
   },
   "file_extension": ".py",
   "mimetype": "text/x-python",
   "name": "python",
   "nbconvert_exporter": "python",
   "pygments_lexer": "ipython3",
   "version": "3.9.7"
  }
 },
 "nbformat": 4,
 "nbformat_minor": 5
}
