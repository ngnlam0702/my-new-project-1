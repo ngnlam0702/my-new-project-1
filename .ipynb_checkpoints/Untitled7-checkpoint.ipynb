{
 "cells": [
  {
   "cell_type": "code",
   "execution_count": 28,
   "id": "2451ff34",
   "metadata": {},
   "outputs": [],
   "source": [
    "import turtle"
   ]
  },
  {
   "cell_type": "code",
   "execution_count": 30,
   "id": "f585a3c2",
   "metadata": {},
   "outputs": [],
   "source": [
    "pen = turtle.Turtle()"
   ]
  },
  {
   "cell_type": "code",
   "execution_count": 31,
   "id": "cf204f00",
   "metadata": {},
   "outputs": [],
   "source": [
    "pen.pensize(5) "
   ]
  },
  {
   "cell_type": "code",
   "execution_count": 32,
   "id": "577b58a1",
   "metadata": {},
   "outputs": [],
   "source": [
    "pen.pencolor(\"Blue\")"
   ]
  },
  {
   "cell_type": "code",
   "execution_count": 37,
   "id": "8ef158a6",
   "metadata": {},
   "outputs": [],
   "source": [
    "facesize = 200\n",
    "turtle.penup()\n",
    "turtle.goto(0, -200)\n",
    "turtle.pendown()\n",
    "turtle.circle(facesize)"
   ]
  },
  {
   "cell_type": "code",
   "execution_count": 40,
   "id": "4166bcac",
   "metadata": {},
   "outputs": [],
   "source": [
    "turtle.fillcolor (\"red\")\n",
    "turtle.penup()\n",
    "turtle.goto(-100,50)\n",
    "turtle.pendown()"
   ]
  },
  {
   "cell_type": "code",
   "execution_count": 45,
   "id": "c6d19686",
   "metadata": {},
   "outputs": [],
   "source": [
    "eye_size = 17.5\n",
    "\n",
    "turtle.begin_fill()\n",
    "turtle.circle(eye_size)\n",
    "turtle.end_fill()\n",
    "turtle.penup()\n",
    "\n",
    "turtle.goto(100,50)\n",
    "turtle.pendown()\n",
    "turtle.begin_fill()\n",
    "turtle.circle(eye_size)\n",
    "turtle.end_fill()"
   ]
  },
  {
   "cell_type": "code",
   "execution_count": 46,
   "id": "f8d7311b",
   "metadata": {},
   "outputs": [],
   "source": [
    "turtle.penup ()\n",
    "turtle.goto(0,50)\n",
    "turtle.pendown()\n",
    "turtle.circle(-70, steps=3)"
   ]
  },
  {
   "cell_type": "code",
   "execution_count": 47,
   "id": "ebe9e83e",
   "metadata": {},
   "outputs": [],
   "source": [
    "turtle.penup()\n",
    "turtle.goto(-100, -70)\n",
    "turtle.pendown()"
   ]
  },
  {
   "cell_type": "code",
   "execution_count": 48,
   "id": "f657b866",
   "metadata": {},
   "outputs": [],
   "source": [
    "turtle.right(90)\n",
    "turtle.circle(100,180)\n",
    "turtle.mainloop()"
   ]
  },
  {
   "cell_type": "code",
   "execution_count": null,
   "id": "12c84e46",
   "metadata": {},
   "outputs": [],
   "source": [
    "turtle.done()"
   ]
  }
 ],
 "metadata": {
  "kernelspec": {
   "display_name": "Python 3 (ipykernel)",
   "language": "python",
   "name": "python3"
  },
  "language_info": {
   "codemirror_mode": {
    "name": "ipython",
    "version": 3
   },
   "file_extension": ".py",
   "mimetype": "text/x-python",
   "name": "python",
   "nbconvert_exporter": "python",
   "pygments_lexer": "ipython3",
   "version": "3.9.7"
  }
 },
 "nbformat": 4,
 "nbformat_minor": 5
}
