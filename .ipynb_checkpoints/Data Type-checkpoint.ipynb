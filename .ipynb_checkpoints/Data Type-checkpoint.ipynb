{
 "cells": [
  {
   "cell_type": "code",
   "execution_count": 3,
   "id": "29645b21",
   "metadata": {},
   "outputs": [
    {
     "name": "stdout",
     "output_type": "stream",
     "text": [
      "Năm nay là 2017\n"
     ]
    }
   ],
   "source": [
    "year = 2017\n",
    "print(\"Năm nay là \" + str(year))"
   ]
  },
  {
   "cell_type": "code",
   "execution_count": 5,
   "id": "499c1896",
   "metadata": {},
   "outputs": [
    {
     "name": "stdout",
     "output_type": "stream",
     "text": [
      "True\n"
     ]
    }
   ],
   "source": [
    "myLove = True\n",
    "print(myLove)"
   ]
  },
  {
   "cell_type": "code",
   "execution_count": 9,
   "id": "a0b0f6a0",
   "metadata": {},
   "outputs": [
    {
     "name": "stdout",
     "output_type": "stream",
     "text": [
      "True\n"
     ]
    }
   ],
   "source": [
    "myBool = 5 < 9\n",
    "print(myBool)"
   ]
  },
  {
   "cell_type": "markdown",
   "id": "e184034e",
   "metadata": {},
   "source": []
  },
  {
   "cell_type": "code",
   "execution_count": 10,
   "id": "d79f563c",
   "metadata": {},
   "outputs": [
    {
     "name": "stdout",
     "output_type": "stream",
     "text": [
      "9\n"
     ]
    }
   ],
   "source": [
    "month = 9\n",
    "print(month)"
   ]
  },
  {
   "cell_type": "code",
   "execution_count": 13,
   "id": "26bf3a4e",
   "metadata": {},
   "outputs": [
    {
     "name": "stdout",
     "output_type": "stream",
     "text": [
      "{'name': 'codegym-online', 'domain': 'codegym-online.vn', 'students': 2000}\n"
     ]
    },
    {
     "ename": "NameError",
     "evalue": "name 'name' is not defined",
     "output_type": "error",
     "traceback": [
      "\u001b[1;31m---------------------------------------------------------------------------\u001b[0m",
      "\u001b[1;31mNameError\u001b[0m                                 Traceback (most recent call last)",
      "\u001b[1;32m~\\AppData\\Local\\Temp/ipykernel_13516/2329892315.py\u001b[0m in \u001b[0;36m<module>\u001b[1;34m\u001b[0m\n\u001b[0;32m      1\u001b[0m \u001b[0minfor\u001b[0m \u001b[1;33m=\u001b[0m \u001b[1;33m{\u001b[0m\u001b[1;34m'name'\u001b[0m\u001b[1;33m:\u001b[0m \u001b[1;34m'codegym-online'\u001b[0m\u001b[1;33m,\u001b[0m\u001b[1;34m'domain'\u001b[0m\u001b[1;33m:\u001b[0m \u001b[1;34m'codegym-online.vn'\u001b[0m\u001b[1;33m,\u001b[0m \u001b[1;34m'students'\u001b[0m\u001b[1;33m:\u001b[0m \u001b[1;36m2000\u001b[0m\u001b[1;33m}\u001b[0m\u001b[1;33m\u001b[0m\u001b[1;33m\u001b[0m\u001b[0m\n\u001b[0;32m      2\u001b[0m \u001b[0mprint\u001b[0m\u001b[1;33m(\u001b[0m\u001b[0minfor\u001b[0m\u001b[1;33m)\u001b[0m\u001b[1;33m\u001b[0m\u001b[1;33m\u001b[0m\u001b[0m\n\u001b[1;32m----> 3\u001b[1;33m \u001b[0mprint\u001b[0m\u001b[1;33m(\u001b[0m\u001b[0mname\u001b[0m\u001b[1;33m)\u001b[0m\u001b[1;33m\u001b[0m\u001b[1;33m\u001b[0m\u001b[0m\n\u001b[0m",
      "\u001b[1;31mNameError\u001b[0m: name 'name' is not defined"
     ]
    }
   ],
   "source": [
    "infor = {'name': 'codegym-online','domain': 'codegym-online.vn', 'students': 2000}\n",
    "print(infor)\n",
    "print(name)"
   ]
  },
  {
   "cell_type": "code",
   "execution_count": 14,
   "id": "af2add22",
   "metadata": {},
   "outputs": [],
   "source": [
    "person = {\n",
    "    'name': 'Vũ Thanh Tài',\n",
    "    'age': 22,\n",
    "    'male': True,\n",
    "    'status': 'single'        \n",
    "    }\n"
   ]
  },
  {
   "cell_type": "code",
   "execution_count": 15,
   "id": "09623a28",
   "metadata": {},
   "outputs": [
    {
     "name": "stdout",
     "output_type": "stream",
     "text": [
      "{'name': 'Vũ Thanh Tài', 'age': 22, 'male': True, 'status': 'married'}\n"
     ]
    }
   ],
   "source": [
    "person = {\n",
    "    'name': 'Vũ Thanh Tài',\n",
    "    'age': 22,\n",
    "    'male': True,\n",
    "    'status': 'alone'        \n",
    "    }\n",
    "\n",
    "person['status'] = 'married'\n",
    "print(person)"
   ]
  },
  {
   "cell_type": "code",
   "execution_count": 16,
   "id": "42f64941",
   "metadata": {},
   "outputs": [
    {
     "name": "stdout",
     "output_type": "stream",
     "text": [
      "{}\n"
     ]
    }
   ],
   "source": [
    "person = {\n",
    "    'name': 'Vũ Thanh Tài',\n",
    "    'age': 22,\n",
    "    'male': True,\n",
    "    'status': 'alone'        \n",
    "    }\n",
    "\n",
    "person.clear()\n",
    "print(person)"
   ]
  },
  {
   "cell_type": "code",
   "execution_count": 21,
   "id": "3d57b0bf",
   "metadata": {},
   "outputs": [
    {
     "name": "stdout",
     "output_type": "stream",
     "text": [
      "{'name': 'Vũ Thanh Tài', 'option': {'age': 22, 'male': True, 'status': 'alone'}}\n"
     ]
    }
   ],
   "source": [
    "person = {\n",
    "    'name': 'Vũ Thanh Tài',\n",
    "    'option': {\n",
    "                'age': 22,\n",
    "                'male': True,\n",
    "                'status': 'alone'\n",
    "            }        \n",
    "    }\n",
    "\n",
    "print(person)"
   ]
  }
 ],
 "metadata": {
  "kernelspec": {
   "display_name": "Python 3 (ipykernel)",
   "language": "python",
   "name": "python3"
  },
  "language_info": {
   "codemirror_mode": {
    "name": "ipython",
    "version": 3
   },
   "file_extension": ".py",
   "mimetype": "text/x-python",
   "name": "python",
   "nbconvert_exporter": "python",
   "pygments_lexer": "ipython3",
   "version": "3.9.7"
  }
 },
 "nbformat": 4,
 "nbformat_minor": 5
}
