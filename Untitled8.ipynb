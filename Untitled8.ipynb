{
 "cells": [
  {
   "cell_type": "code",
   "execution_count": 1,
   "id": "93391f96",
   "metadata": {},
   "outputs": [],
   "source": [
    "import turtle"
   ]
  },
  {
   "cell_type": "code",
   "execution_count": 2,
   "id": "5fd7d846",
   "metadata": {},
   "outputs": [],
   "source": [
    "pen = turtle.Turtle()"
   ]
  },
  {
   "cell_type": "code",
   "execution_count": 3,
   "id": "bee03681",
   "metadata": {},
   "outputs": [],
   "source": [
    "#đặt kích thước viền cho hình tròn là 5\n",
    "turtle.pensize (5)"
   ]
  },
  {
   "cell_type": "code",
   "execution_count": 4,
   "id": "c5e6a1bd",
   "metadata": {},
   "outputs": [],
   "source": [
    "#đặt màu sắc cho viền hình tròn là màu đỏ\n",
    "turtle.pencolor (\"red\")\n",
    "turtle.fillcolor (\"blue\")"
   ]
  },
  {
   "cell_type": "code",
   "execution_count": 5,
   "id": "c807a52a",
   "metadata": {},
   "outputs": [
    {
     "data": {
      "text/plain": [
       "<function turtle.mainloop()>"
      ]
     },
     "execution_count": 5,
     "metadata": {},
     "output_type": "execute_result"
    }
   ],
   "source": [
    "turtle.begin_fill()\n",
    "turtle.circle (100)\n",
    "turtle.end_fill()\n",
    "turtle.done"
   ]
  },
  {
   "cell_type": "code",
   "execution_count": null,
   "id": "b325416e",
   "metadata": {},
   "outputs": [],
   "source": [
    "turtle.done()"
   ]
  }
 ],
 "metadata": {
  "kernelspec": {
   "display_name": "Python 3 (ipykernel)",
   "language": "python",
   "name": "python3"
  },
  "language_info": {
   "codemirror_mode": {
    "name": "ipython",
    "version": 3
   },
   "file_extension": ".py",
   "mimetype": "text/x-python",
   "name": "python",
   "nbconvert_exporter": "python",
   "pygments_lexer": "ipython3",
   "version": "3.9.7"
  }
 },
 "nbformat": 4,
 "nbformat_minor": 5
}
