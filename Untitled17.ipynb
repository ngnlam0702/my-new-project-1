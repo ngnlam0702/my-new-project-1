{
 "cells": [
  {
   "cell_type": "code",
   "execution_count": 1,
   "id": "e9979ce7",
   "metadata": {},
   "outputs": [],
   "source": [
    "import turtle"
   ]
  },
  {
   "cell_type": "code",
   "execution_count": null,
   "id": "d73f5018",
   "metadata": {},
   "outputs": [],
   "source": [
    "color = input(\"Enter the fill color: \")\n",
    "l = float(input(\"Enter the legth of this: \"))\n",
    "w = float(input(\"Enter the width of this: \"))"
   ]
  },
  {
   "cell_type": "code",
   "execution_count": 3,
   "id": "76432afa",
   "metadata": {},
   "outputs": [],
   "source": [
    "pen = turtle.Turtle()"
   ]
  },
  {
   "cell_type": "code",
   "execution_count": 4,
   "id": "d11acc40",
   "metadata": {},
   "outputs": [],
   "source": [
    "pen.fillcolor(color)\n",
    "pen.begin_fill()\n",
    "pen.forward(l)\n",
    "pen.right(90)\n",
    "pen.forward(w)\n",
    "pen.right(90)\n",
    "pen.forward(l)\n",
    "pen.right(90)\n",
    "pen.forward(w)\n",
    "pen.right(90)\n",
    "pen.end_fill()"
   ]
  },
  {
   "cell_type": "code",
   "execution_count": 5,
   "id": "a51c4224",
   "metadata": {},
   "outputs": [],
   "source": [
    "turtle.done()"
   ]
  },
  {
   "cell_type": "code",
   "execution_count": null,
   "id": "c5ba8f5a",
   "metadata": {},
   "outputs": [],
   "source": []
  },
  {
   "cell_type": "code",
   "execution_count": null,
   "id": "8498a5d4",
   "metadata": {},
   "outputs": [],
   "source": []
  },
  {
   "cell_type": "code",
   "execution_count": null,
   "id": "5b3439af",
   "metadata": {},
   "outputs": [],
   "source": []
  },
  {
   "cell_type": "code",
   "execution_count": null,
   "id": "6ea09391",
   "metadata": {},
   "outputs": [],
   "source": []
  },
  {
   "cell_type": "code",
   "execution_count": null,
   "id": "376e1df7",
   "metadata": {},
   "outputs": [],
   "source": []
  },
  {
   "cell_type": "code",
   "execution_count": null,
   "id": "5e9cae5a",
   "metadata": {},
   "outputs": [],
   "source": []
  },
  {
   "cell_type": "code",
   "execution_count": null,
   "id": "e20bef4b",
   "metadata": {},
   "outputs": [],
   "source": []
  },
  {
   "cell_type": "code",
   "execution_count": null,
   "id": "c090f729",
   "metadata": {},
   "outputs": [],
   "source": []
  },
  {
   "cell_type": "code",
   "execution_count": null,
   "id": "4d6d9390",
   "metadata": {},
   "outputs": [],
   "source": []
  }
 ],
 "metadata": {
  "kernelspec": {
   "display_name": "Python 3 (ipykernel)",
   "language": "python",
   "name": "python3"
  },
  "language_info": {
   "codemirror_mode": {
    "name": "ipython",
    "version": 3
   },
   "file_extension": ".py",
   "mimetype": "text/x-python",
   "name": "python",
   "nbconvert_exporter": "python",
   "pygments_lexer": "ipython3",
   "version": "3.9.7"
  }
 },
 "nbformat": 4,
 "nbformat_minor": 5
}
