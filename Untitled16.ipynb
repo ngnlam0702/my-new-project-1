{
 "cells": [
  {
   "cell_type": "code",
   "execution_count": 2,
   "id": "c5f1c231",
   "metadata": {},
   "outputs": [],
   "source": [
    "import math\n"
   ]
  },
  {
   "cell_type": "code",
   "execution_count": 3,
   "id": "e5943542",
   "metadata": {},
   "outputs": [
    {
     "name": "stdout",
     "output_type": "stream",
     "text": [
      "Enter the radius: 40\n"
     ]
    }
   ],
   "source": [
    "r = int(input(\"Enter the radius: \"))"
   ]
  },
  {
   "cell_type": "code",
   "execution_count": 4,
   "id": "baa70019",
   "metadata": {},
   "outputs": [],
   "source": [
    "c = 2 * math.pi * r\n",
    "s = math.pi * r * r"
   ]
  },
  {
   "cell_type": "code",
   "execution_count": 5,
   "id": "a37fa4e3",
   "metadata": {},
   "outputs": [
    {
     "name": "stdout",
     "output_type": "stream",
     "text": [
      "Chu vi của hình tròn có bán kính = 40 là 251.32741228718345\n",
      "Diện tích của hình tròn có bán kính = 40 là 5026.548245743669\n"
     ]
    }
   ],
   "source": [
    "print(\"Chu vi của hình tròn có bán kính = {r} là {c}\".format(r=r, c=c))\n",
    "print(\"Diện tích của hình tròn có bán kính = {r} là {s}\".format(r=r, s=s))"
   ]
  },
  {
   "cell_type": "code",
   "execution_count": 6,
   "id": "445fd5f0",
   "metadata": {},
   "outputs": [
    {
     "name": "stdout",
     "output_type": "stream",
     "text": [
      "chu vi có bán kính 40 là 251.32741228718345\n"
     ]
    }
   ],
   "source": [
    "print(\"chu vi có bán kính\", r, \"là\", c)"
   ]
  },
  {
   "cell_type": "code",
   "execution_count": null,
   "id": "92cae37d",
   "metadata": {},
   "outputs": [],
   "source": []
  },
  {
   "cell_type": "code",
   "execution_count": null,
   "id": "22c80aae",
   "metadata": {},
   "outputs": [],
   "source": []
  },
  {
   "cell_type": "code",
   "execution_count": null,
   "id": "60b12e2c",
   "metadata": {},
   "outputs": [],
   "source": []
  },
  {
   "cell_type": "code",
   "execution_count": null,
   "id": "c4e4d7ff",
   "metadata": {},
   "outputs": [],
   "source": []
  }
 ],
 "metadata": {
  "kernelspec": {
   "display_name": "Python 3 (ipykernel)",
   "language": "python",
   "name": "python3"
  },
  "language_info": {
   "codemirror_mode": {
    "name": "ipython",
    "version": 3
   },
   "file_extension": ".py",
   "mimetype": "text/x-python",
   "name": "python",
   "nbconvert_exporter": "python",
   "pygments_lexer": "ipython3",
   "version": "3.9.7"
  }
 },
 "nbformat": 4,
 "nbformat_minor": 5
}
