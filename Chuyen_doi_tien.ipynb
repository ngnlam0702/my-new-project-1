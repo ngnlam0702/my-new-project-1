{
 "cells": [
  {
   "cell_type": "code",
   "execution_count": 1,
   "id": "ba1fc590",
   "metadata": {},
   "outputs": [],
   "source": [
    "import math"
   ]
  },
  {
   "cell_type": "code",
   "execution_count": 5,
   "id": "6730fd35",
   "metadata": {},
   "outputs": [
    {
     "name": "stdout",
     "output_type": "stream",
     "text": [
      "Bạn vui lòng nhập số tiền USD cần đổi ở ô này: 21\n"
     ]
    }
   ],
   "source": [
    "tien = float(input(\"Bạn vui lòng nhập số tiền USD cần đổi ở ô này: \"))"
   ]
  },
  {
   "cell_type": "code",
   "execution_count": 8,
   "id": "4b4dfaa4",
   "metadata": {},
   "outputs": [],
   "source": [
    "tien_2 = tien * 22.769"
   ]
  },
  {
   "cell_type": "code",
   "execution_count": 9,
   "id": "113869f4",
   "metadata": {},
   "outputs": [
    {
     "name": "stdout",
     "output_type": "stream",
     "text": [
      "Tiền sau khi quy đổi sang VND là:  478.14899999999994 VND\n"
     ]
    }
   ],
   "source": [
    "print(\"Tiền sau khi quy đổi sang VND là: \", tien_2, \"VND\")"
   ]
  },
  {
   "cell_type": "code",
   "execution_count": null,
   "id": "e00742e1",
   "metadata": {},
   "outputs": [],
   "source": []
  },
  {
   "cell_type": "code",
   "execution_count": null,
   "id": "f6dc946b",
   "metadata": {},
   "outputs": [],
   "source": []
  },
  {
   "cell_type": "code",
   "execution_count": null,
   "id": "094e0422",
   "metadata": {},
   "outputs": [],
   "source": []
  },
  {
   "cell_type": "code",
   "execution_count": null,
   "id": "c467b0cb",
   "metadata": {},
   "outputs": [],
   "source": []
  },
  {
   "cell_type": "code",
   "execution_count": null,
   "id": "67ca5d0f",
   "metadata": {},
   "outputs": [],
   "source": []
  },
  {
   "cell_type": "code",
   "execution_count": null,
   "id": "86b836e5",
   "metadata": {},
   "outputs": [],
   "source": []
  },
  {
   "cell_type": "code",
   "execution_count": null,
   "id": "e80e23a3",
   "metadata": {},
   "outputs": [],
   "source": []
  }
 ],
 "metadata": {
  "kernelspec": {
   "display_name": "Python 3 (ipykernel)",
   "language": "python",
   "name": "python3"
  },
  "language_info": {
   "codemirror_mode": {
    "name": "ipython",
    "version": 3
   },
   "file_extension": ".py",
   "mimetype": "text/x-python",
   "name": "python",
   "nbconvert_exporter": "python",
   "pygments_lexer": "ipython3",
   "version": "3.9.7"
  }
 },
 "nbformat": 4,
 "nbformat_minor": 5
}
