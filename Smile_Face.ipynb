{
 "cells": [
  {
   "cell_type": "code",
   "execution_count": 14,
   "id": "e99d10c7",
   "metadata": {},
   "outputs": [],
   "source": [
    "import turtle"
   ]
  },
  {
   "cell_type": "code",
   "execution_count": 16,
   "id": "2164eba9",
   "metadata": {},
   "outputs": [],
   "source": [
    "pen = turtle.Turtle()"
   ]
  },
  {
   "cell_type": "code",
   "execution_count": 11,
   "id": "6901e0e2",
   "metadata": {},
   "outputs": [],
   "source": [
    "#define pen size and define pencolor, fill color\n",
    "turtle.pensize(5) \n",
    "turtle.pencolor(\"Blue\") "
   ]
  },
  {
   "cell_type": "code",
   "execution_count": 17,
   "id": "09fbb74e",
   "metadata": {},
   "outputs": [],
   "source": [
    "facesize = 200\n",
    "turtle.penup()\n",
    "turtle.goto(0, -200)\n",
    "turtle.pendown()\n",
    "turtle.fillcolor(\"yellow\")\n",
    "turtle.begin_fill()\n",
    "turtle.circle(facesize)\n",
    "turtle.end_fill()"
   ]
  },
  {
   "cell_type": "code",
   "execution_count": 18,
   "id": "413bf04a",
   "metadata": {},
   "outputs": [],
   "source": [
    "#for eyes\n",
    "#Màu nền mắt là màu xanh\n",
    "turtle.penup()\n",
    "turtle.goto(-100,50)\n",
    "turtle.pendown()\n",
    "turtle.fillcolor (\"#33FFD5\")\n",
    "\n",
    "# khai bao bien eyesize lưu kích thước mắt\n",
    "eye_size = 17.5\n",
    "\n",
    "#mắt thứ nhất \n",
    "turtle.begin_fill()\n",
    "turtle.circle(eye_size)\n",
    "turtle.end_fill()\n",
    "turtle.penup()\n",
    "\n",
    "#mắt thứ hai\n",
    "turtle.goto(100,50)\n",
    "turtle.pendown()\n",
    "turtle.begin_fill()\n",
    "turtle.circle(eye_size)\n",
    "turtle.end_fill()"
   ]
  },
  {
   "cell_type": "code",
   "execution_count": 19,
   "id": "42624fb9",
   "metadata": {},
   "outputs": [],
   "source": [
    "#for nose (vẽ mũi)\n",
    "turtle.penup ()\n",
    "turtle.goto(0,50)\n",
    "turtle.pendown()\n",
    "turtle.fillcolor(\"#F8C471\")\n",
    "turtle.begin_fill()\n",
    "turtle.circle(-50, steps=3)\n",
    "turtle.end_fill()"
   ]
  },
  {
   "cell_type": "code",
   "execution_count": 20,
   "id": "52a9dc0d",
   "metadata": {},
   "outputs": [],
   "source": [
    "# for smile\n",
    "turtle.penup()\n",
    "turtle.goto(-100, -70)\n",
    "turtle.pendown()\n",
    "turtle.pensize(5)\n",
    "turtle.pencolor(\"red\")\n",
    "turtle.right(90)\n",
    "turtle.circle(100,180)\n",
    "turtle.mainloop()\n"
   ]
  },
  {
   "cell_type": "code",
   "execution_count": null,
   "id": "e4daa2ba",
   "metadata": {},
   "outputs": [],
   "source": [
    "turtle.done()"
   ]
  },
  {
   "cell_type": "code",
   "execution_count": null,
   "id": "41d7c9e0",
   "metadata": {},
   "outputs": [],
   "source": []
  }
 ],
 "metadata": {
  "kernelspec": {
   "display_name": "Python 3 (ipykernel)",
   "language": "python",
   "name": "python3"
  },
  "language_info": {
   "codemirror_mode": {
    "name": "ipython",
    "version": 3
   },
   "file_extension": ".py",
   "mimetype": "text/x-python",
   "name": "python",
   "nbconvert_exporter": "python",
   "pygments_lexer": "ipython3",
   "version": "3.9.7"
  }
 },
 "nbformat": 4,
 "nbformat_minor": 5
}
