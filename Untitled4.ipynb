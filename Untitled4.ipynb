{
 "cells": [
  {
   "cell_type": "code",
   "execution_count": null,
   "id": "b187acdb",
   "metadata": {},
   "outputs": [],
   "source": [
    "Họ tên"
   ]
  },
  {
   "cell_type": "code",
   "execution_count": 4,
   "id": "bab07f15",
   "metadata": {},
   "outputs": [
    {
     "name": "stdout",
     "output_type": "stream",
     "text": [
      "Nguyễn Ngọc Lâm\n"
     ]
    }
   ],
   "source": [
    "print(\"Nguyễn Ngọc Lâm\")"
   ]
  },
  {
   "cell_type": "code",
   "execution_count": null,
   "id": "b2f77ea6",
   "metadata": {},
   "outputs": [],
   "source": [
    "Ngày sinh"
   ]
  },
  {
   "cell_type": "code",
   "execution_count": 3,
   "id": "714a2b6e",
   "metadata": {},
   "outputs": [
    {
     "name": "stdout",
     "output_type": "stream",
     "text": [
      "07/02/2001\n"
     ]
    }
   ],
   "source": [
    "print(\"07/02/2001\")"
   ]
  },
  {
   "cell_type": "code",
   "execution_count": null,
   "id": "3847aeb8",
   "metadata": {},
   "outputs": [],
   "source": [
    "Địa chỉ"
   ]
  },
  {
   "cell_type": "code",
   "execution_count": 2,
   "id": "e2a26306",
   "metadata": {},
   "outputs": [
    {
     "name": "stdout",
     "output_type": "stream",
     "text": [
      "T3 times city, 458 Minh Khai, Hà Nội\n"
     ]
    }
   ],
   "source": [
    "print(\"T3 times city, 458 Minh Khai, Hà Nội\")"
   ]
  },
  {
   "cell_type": "code",
   "execution_count": null,
   "id": "3b62e331",
   "metadata": {},
   "outputs": [],
   "source": [
    "Mục đích đến với khóa học"
   ]
  },
  {
   "cell_type": "code",
   "execution_count": 1,
   "id": "0468c062",
   "metadata": {},
   "outputs": [
    {
     "name": "stdout",
     "output_type": "stream",
     "text": [
      "Em đến với khóa học để tìm kiếm sự đổi mới, phong phú, tiếp cận với những kiến thức mới\n"
     ]
    }
   ],
   "source": [
    "print(\"Em đến với khóa học để tìm kiếm sự đổi mới, phong phú, tiếp cận với những kiến thức mới\")"
   ]
  }
 ],
 "metadata": {
  "kernelspec": {
   "display_name": "Python 3 (ipykernel)",
   "language": "python",
   "name": "python3"
  },
  "language_info": {
   "codemirror_mode": {
    "name": "ipython",
    "version": 3
   },
   "file_extension": ".py",
   "mimetype": "text/x-python",
   "name": "python",
   "nbconvert_exporter": "python",
   "pygments_lexer": "ipython3",
   "version": "3.9.7"
  }
 },
 "nbformat": 4,
 "nbformat_minor": 5
}
